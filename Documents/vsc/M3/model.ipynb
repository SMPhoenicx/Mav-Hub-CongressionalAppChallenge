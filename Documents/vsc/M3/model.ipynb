{
 "cells": [
  {
   "cell_type": "code",
   "execution_count": 1,
   "metadata": {},
   "outputs": [],
   "source": [
    "import pandas as pd"
   ]
  },
  {
   "cell_type": "code",
   "execution_count": 2,
   "metadata": {},
   "outputs": [
    {
     "data": {
      "text/html": [
       "<div>\n",
       "<style scoped>\n",
       "    .dataframe tbody tr th:only-of-type {\n",
       "        vertical-align: middle;\n",
       "    }\n",
       "\n",
       "    .dataframe tbody tr th {\n",
       "        vertical-align: top;\n",
       "    }\n",
       "\n",
       "    .dataframe thead th {\n",
       "        text-align: right;\n",
       "    }\n",
       "</style>\n",
       "<table border=\"1\" class=\"dataframe\">\n",
       "  <thead>\n",
       "    <tr style=\"text-align: right;\">\n",
       "      <th></th>\n",
       "      <th>title</th>\n",
       "      <th>description</th>\n",
       "      <th>date_assigned</th>\n",
       "      <th>date_due</th>\n",
       "      <th>uid</th>\n",
       "    </tr>\n",
       "  </thead>\n",
       "  <tbody>\n",
       "    <tr>\n",
       "      <th>0</th>\n",
       "      <td>AP US History - 3D: Read pp. 18-24 and 30-38--...</td>\n",
       "      <td>Read pp. 18-24 and 30-38--Note: Much of this r...</td>\n",
       "      <td>2024-08-19 00:00</td>\n",
       "      <td>2024-08-22</td>\n",
       "      <td>b4be98e0-5d81-453a-a809-df6a18f16f12</td>\n",
       "    </tr>\n",
       "    <tr>\n",
       "      <th>1</th>\n",
       "      <td>AP Physics 1 - 2C: Download Pasco Join the Dig...</td>\n",
       "      <td>Bulletin Board has detailed instructions.</td>\n",
       "      <td>2024-08-20 00:00</td>\n",
       "      <td>2024-08-23</td>\n",
       "      <td>eefa2d5e-448e-406e-9613-84592ad81240</td>\n",
       "    </tr>\n",
       "    <tr>\n",
       "      <th>2</th>\n",
       "      <td>AP Chinese - 1B: AP Chinese Homework 1&amp;#160;</td>\n",
       "      <td>Vocab from &amp;#20307;&amp;#20250; to &amp;#35789;&amp;#27719...</td>\n",
       "      <td>2024-08-16 00:00</td>\n",
       "      <td>2024-08-23</td>\n",
       "      <td>41d6d408-f683-4efa-b9fd-f57f55c514c4</td>\n",
       "    </tr>\n",
       "    <tr>\n",
       "      <th>3</th>\n",
       "      <td>AP English Language - 9E: The Great Gatsby Rea...</td>\n",
       "      <td>No Description</td>\n",
       "      <td>2024-08-20 00:00</td>\n",
       "      <td>2024-08-23</td>\n",
       "      <td>a7d55ff3-c4eb-4f2e-b2ce-672fdec99518</td>\n",
       "    </tr>\n",
       "    <tr>\n",
       "      <th>4</th>\n",
       "      <td>Engineering Capstone I (H) - 1A: Class Partici...</td>\n",
       "      <td>No Description</td>\n",
       "      <td>2024-08-23 00:00</td>\n",
       "      <td>2024-08-24</td>\n",
       "      <td>edcea75a-67ca-4535-a6e9-a2eaa2228535</td>\n",
       "    </tr>\n",
       "  </tbody>\n",
       "</table>\n",
       "</div>"
      ],
      "text/plain": [
       "                                               title  \\\n",
       "0  AP US History - 3D: Read pp. 18-24 and 30-38--...   \n",
       "1  AP Physics 1 - 2C: Download Pasco Join the Dig...   \n",
       "2       AP Chinese - 1B: AP Chinese Homework 1&#160;   \n",
       "3  AP English Language - 9E: The Great Gatsby Rea...   \n",
       "4  Engineering Capstone I (H) - 1A: Class Partici...   \n",
       "\n",
       "                                         description     date_assigned  \\\n",
       "0  Read pp. 18-24 and 30-38--Note: Much of this r...  2024-08-19 00:00   \n",
       "1          Bulletin Board has detailed instructions.  2024-08-20 00:00   \n",
       "2  Vocab from &#20307;&#20250; to &#35789;&#27719...  2024-08-16 00:00   \n",
       "3                                     No Description  2024-08-20 00:00   \n",
       "4                                     No Description  2024-08-23 00:00   \n",
       "\n",
       "     date_due                                   uid  \n",
       "0  2024-08-22  b4be98e0-5d81-453a-a809-df6a18f16f12  \n",
       "1  2024-08-23  eefa2d5e-448e-406e-9613-84592ad81240  \n",
       "2  2024-08-23  41d6d408-f683-4efa-b9fd-f57f55c514c4  \n",
       "3  2024-08-23  a7d55ff3-c4eb-4f2e-b2ce-672fdec99518  \n",
       "4  2024-08-24  edcea75a-67ca-4535-a6e9-a2eaa2228535  "
      ]
     },
     "execution_count": 2,
     "metadata": {},
     "output_type": "execute_result"
    }
   ],
   "source": [
    "df = pd.read_csv(\"assignments.csv\")\n",
    "df.head()"
   ]
  }
 ],
 "metadata": {
  "kernelspec": {
   "display_name": "Python 3",
   "language": "python",
   "name": "python3"
  },
  "language_info": {
   "name": "python",
   "version": "3.9.6"
  }
 },
 "nbformat": 4,
 "nbformat_minor": 2
}
